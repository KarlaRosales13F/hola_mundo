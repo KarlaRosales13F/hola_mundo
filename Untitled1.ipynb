{
  "nbformat": 4,
  "nbformat_minor": 0,
  "metadata": {
    "colab": {
      "provenance": [],
      "authorship_tag": "ABX9TyME5oWPBhZx8qM4qD+/+zb7",
      "include_colab_link": true
    },
    "kernelspec": {
      "name": "python3",
      "display_name": "Python 3"
    },
    "language_info": {
      "name": "python"
    }
  },
  "cells": [
    {
      "cell_type": "markdown",
      "metadata": {
        "id": "view-in-github",
        "colab_type": "text"
      },
      "source": [
        "<a href=\"https://colab.research.google.com/github/KarlaRosales13F/hola_mundo/blob/main/Untitled1.ipynb\" target=\"_parent\"><img src=\"https://colab.research.google.com/assets/colab-badge.svg\" alt=\"Open In Colab\"/></a>"
      ]
    },
    {
      "cell_type": "markdown",
      "source": [
        "Aqui esta el codigo"
      ],
      "metadata": {
        "id": "HkHbGs6oHWga"
      }
    },
    {
      "cell_type": "code",
      "execution_count": 2,
      "metadata": {
        "colab": {
          "base_uri": "https://localhost:8080/"
        },
        "id": "OPsmZaciHVe7",
        "outputId": "de7d863e-4e92-46d1-9d31-9225aed86e6a"
      },
      "outputs": [
        {
          "output_type": "stream",
          "name": "stdout",
          "text": [
            "\n",
            "--- Venta 1 ---\n",
            "Ingrese el nombre del producto que desea vender: xd\n",
            "Ingrese la cantidad vendida: 2\n",
            "Ingrese el precio del producto: 312\n",
            "Venta realizada: 2 x xd a 312.0 cada uno. Total: 624.00\n",
            "\n",
            "¿Desea hacer otra venta? (Ingrese '5' para salir, cualquier otra tecla para continuar): 5\n",
            "Saliendo del sistema de ventas...\n"
          ]
        }
      ],
      "source": [
        "def Venta1():\n",
        "    while True:\n",
        "        print(\"\\n--- Venta 1 ---\")\n",
        "        # Simulamos la compra de un producto\n",
        "        producto = input(\"Ingrese el nombre del producto que desea vender: \")\n",
        "        cantidad = int(input(\"Ingrese la cantidad vendida: \"))\n",
        "        precio = float(input(\"Ingrese el precio del producto: \"))\n",
        "\n",
        "        total_venta = cantidad * precio\n",
        "        print(f\"Venta realizada: {cantidad} x {producto} a {precio} cada uno. Total: {total_venta:.2f}\")\n",
        "\n",
        "        # Preguntamos si desea hacer otra venta o salir\n",
        "        continuar = input(\"\\n¿Desea hacer otra venta? (Ingrese '5' para salir, cualquier otra tecla para continuar): \")\n",
        "\n",
        "        if continuar == '5':\n",
        "            print(\"Saliendo del sistema de ventas...\")\n",
        "            break\n",
        "\n",
        "# Ejecutamos la función Venta1\n",
        "Venta1()\n"
      ]
    }
  ]
}